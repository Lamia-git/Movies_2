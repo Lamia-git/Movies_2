{
 "cells": [
  {
   "cell_type": "code",
   "execution_count": null,
   "metadata": {},
   "outputs": [],
   "source": [
    "import os  # pour utiliser les variables d'environnements"
   ]
  },
  {
   "cell_type": "code",
   "execution_count": null,
   "metadata": {},
   "outputs": [],
   "source": [
    "import psycopg2   # Le pendant de sqlite 3 pour postgresql"
   ]
  },
  {
   "cell_type": "markdown",
   "metadata": {},
   "source": [
    "  "
   ]
  },
  {
   "cell_type": "markdown",
   "metadata": {},
   "source": [
    "# création de la base de données\n"
   ]
  },
  {
   "cell_type": "code",
   "execution_count": null,
   "metadata": {},
   "outputs": [],
   "source": [
    "# Fonction qui va nous permettre de créer une Base de données.\n",
    "def ouvrir_connection(base_de_donnee, utilisateur, mot_passe, host='localhost', port=5432):\n",
    "    \n",
    "    try:\n",
    "        # création de l'objet conn\n",
    "        conn = psycopg2.connect(dbname= base_de_donnee, user=utilisateur, password = mot_passe, host=\"localhost\", port= 5432)\n",
    "\n",
    "        # on force la sauvegarde\n",
    "        conn.set_session(autocommit=True)   \n",
    "        \n",
    "        # initialisation du cursor\n",
    "        cursor = conn.cursor()\n",
    "        \n",
    "        # exécution de la requête sql de création de la base de donnée\n",
    "        cursor.execute(\"CREATE DATABASE IF NOT EXISTS movie2\")\n",
    "\n",
    "    # gestion des erreurs    \n",
    "    except psycopg2.Error as e:\n",
    "        print(\"Problème lors de la connection à la base de donnée\")\n",
    "        print(e)\n",
    "        return None\n",
    "    # dans tous les cas on va clôturer la session\n",
    "    finally:\n",
    "        cursor.close\n",
    "        conn.close\n",
    "    return conn\n",
    "    "
   ]
  },
  {
   "cell_type": "code",
   "execution_count": null,
   "metadata": {},
   "outputs": [],
   "source": [
    "# Pour la création de la base de donnée, nous avons du indiquer comme nom de BDD \"postgre\"\n",
    "base_de_donnee = \"postgres\"\n",
    "utilisateur = \"postgres\"\n",
    "mot_passe = os.environ.get('pg_pw')\n",
    "    "
   ]
  },
  {
   "cell_type": "code",
   "execution_count": null,
   "metadata": {},
   "outputs": [],
   "source": [
    "# appelle de la fonction de création de la BDD\n",
    "ouvrir_connection(base_de_donnee, utilisateur, mot_passe)"
   ]
  },
  {
   "cell_type": "markdown",
   "metadata": {},
   "source": [
    "------------------"
   ]
  },
  {
   "cell_type": "markdown",
   "metadata": {},
   "source": [
    "# Connection et création table"
   ]
  },
  {
   "cell_type": "code",
   "execution_count": null,
   "metadata": {},
   "outputs": [],
   "source": [
    "import csv\n",
    "from pathlib import Path\n",
    "\n",
    "# Répertoire dataset (small)\n",
    "repertoire_data = Path('movies')\n",
    "\n",
    "# Chemin vers les différents fichiers de données\n",
    "chemin_movies = repertoire_data / 'movies.csv'\n",
    "chemin_links = repertoire_data / 'links.csv'\n",
    "chemin_ratings = repertoire_data / 'ratings.csv'\n",
    "chemin_tags = repertoire_data / 'tags.csv' "
   ]
  },
  {
   "cell_type": "markdown",
   "metadata": {},
   "source": [
    "----------------------------"
   ]
  },
  {
   "cell_type": "markdown",
   "metadata": {},
   "source": [
    "# Gestion de la base de données"
   ]
  },
  {
   "cell_type": "code",
   "execution_count": null,
   "metadata": {},
   "outputs": [],
   "source": [
    "# Fonction pour nous connecter à la BDD \n",
    "def ouvrir_connection(base_de_donnee, utilisateur, mot_passe, host='localhost', port=5432):\n",
    "    \n",
    "    try:\n",
    "        # création de l'objet conn via la fonction connect de psycopg2\n",
    "        conn = psycopg2.connect(dbname= base_de_donnee, user=utilisateur, password = mot_passe, host=\"localhost\", port= 5432)\n",
    "\n",
    "        conn.set_session(autocommit=True)   # on force\n",
    "        \n",
    "        # initialisation du cursor\n",
    "        cursor = conn.cursor()\n",
    "               \n",
    "    except psycopg2.Error as e:\n",
    "        print(\"Problème lors de la connection à la base de donnée\")\n",
    "        print(e)\n",
    "        return None\n",
    "    \n",
    "    finally:\n",
    "        cursor.close\n",
    "        conn.close\n",
    "    return conn\n",
    "    \n",
    "# Fonction pour lire et utiliser les fichiers csv   \n",
    "def lire_donnee(filename):\n",
    "         \n",
    "    # on ouvre une liste vide data:\n",
    "    data = [] \n",
    "    # utilisation de la fonction open pour lire les fichiers csv\n",
    "    with open(filename, newline='', encoding='utf-8') as csvfile:\n",
    "        reader = csv.reader(csvfile)\n",
    "        # next permet de sauter la première ligne du fichier csv (les en-têtes)\n",
    "        next(reader)\n",
    "        # on sauvegarde les données du fichier csv dans la liste data\n",
    "        for row in reader:\n",
    "            data.append(row)\n",
    "                        \n",
    "    return data\n",
    "\n",
    "# fonction qui nous permet de séparer l'année du titre dans la colonne title\n",
    "def couper_annee_titre_film(title):\n",
    "    # on initialise deux variables qui vont récupérer respectivement le titre et l'année\n",
    "    new_title=title.strip()\n",
    "    year=None\n",
    "    try:\n",
    "        # on vérifie si le titre comporte bien une année entre parenthèses\n",
    "        if new_title[-6]=='(' and new_title[-1] == ')':\n",
    "            year=int(new_title[-5:-1])\n",
    "            new_title=new_title[:-6].strip()\n",
    "    except:\n",
    "        pass\n",
    "    return  new_title, year\n",
    "\n",
    "# fonction pour supprimer une table\n",
    "def supprimer_table(conn, sql_suppression_table):\n",
    "    try:\n",
    "        cursor = conn.cursor()\n",
    "        cursor.execute(sql_suppression_table)\n",
    "        conn.commit()\n",
    "    except psycopg2.Error as e:\n",
    "        print(\"Erreur lors de la suppression de la table\")\n",
    "        print(e)\n",
    "        return\n",
    "    cursor.close()\n",
    "    print(\"La table a été supprimée avec succès\")\n",
    "\n",
    "# fonction pour créer une table    \n",
    "def creer_table(conn, sql_creer_table):\n",
    "    try:\n",
    "        cursor = conn.cursor()\n",
    "        cursor.execute(sql_creer_table)\n",
    "        conn.commit()\n",
    "    except psycopg2.Error as e:\n",
    "        print(\"Erreur lors de la création de la table\")\n",
    "        print(e)\n",
    "        return\n",
    "    cursor.close()\n",
    "    print(\"La table a été crée avec succès\")\n",
    "\n",
    "# fonction qui contient une requête sql pour insérer les données    \n",
    "def inserer_donnees(conn, sql_inserer_donnee, donnees):\n",
    "    try:\n",
    "        cursor = conn.cursor()\n",
    "        # on ouvre une boucle pour parcourir les données\n",
    "        for d in donnees:\n",
    "            \"\"\" on appelle la fonction couper_annee_titre_film  \n",
    "             qui nous renvoie une liste dont on veut la valeur\n",
    "             de l'indice 1 (le titre). Données sauvegarder dans\n",
    "             la variable titre_formater            \n",
    "            \"\"\"\n",
    "            titre_formate = couper_annee_titre_film(d[1])\n",
    "            # on distribue dans les variables différentes le titre et l'année\n",
    "            titre = titre_formate[0]\n",
    "            year = titre_formate[1]\n",
    "            cursor.execute(sql_inserer_donnee, (d[0], titre, d[2], year))\n",
    "        conn.commit()\n",
    "    except psycopg2.Error as e:\n",
    "        print(\"Erreur lors de l'insertion des données\")\n",
    "        print(e)\n",
    "        return\n",
    "    cursor.close()\n",
    "    print(\"Les données ont été insérées avec succès\")\n",
    "\n",
    "    # fonction de vérification\n",
    "def lire_table(conn, sql_lire_donnee):\n",
    "    try:\n",
    "        cursor = conn.cursor()\n",
    "        cursor.execute(sql_lire_donnee)\n",
    "        conn.commit()\n",
    "    except psycopg2.Error as e:\n",
    "        print(\"Erreur lors de la lecture des données\")\n",
    "        print(e)\n",
    "        return None\n",
    "    \n",
    "    print(\"Les données ont été lues avec succès\")\n",
    "    data = []\n",
    "    for row in cursor:\n",
    "        data.append(row)\n",
    "\n",
    "    cursor.close()\n",
    "    \n",
    "    return data   "
   ]
  },
  {
   "cell_type": "code",
   "execution_count": null,
   "metadata": {},
   "outputs": [],
   "source": [
    "# SQL QUERY\n",
    "\n",
    "sql_supprimer_table = \"\"\"\n",
    "    DROP TABLE IF EXISTS movie;\n",
    "\"\"\"\n",
    "# on crée directement une nouvelle colonne year\n",
    "sql_creer_table = \"\"\"\n",
    "    CREATE TABLE IF NOT EXISTS movie (\n",
    "    movieid int primary key,\n",
    "    title text,\n",
    "    genres text,\n",
    "    year int\n",
    "    );\n",
    "\"\"\"\n",
    "\n",
    "sql_inserer_donnee = \"\"\"\n",
    "    INSERT INTO movie \n",
    "    (movieid, title, genres, year)\n",
    "    VALUES (%s, %s, %s, %s);\n",
    "\"\"\"\n",
    "\n",
    "sql_lire_donnee = \"\"\"\n",
    "    SELECT *\n",
    "    FROM movie\n",
    "    LIMIT 10;\n",
    "\"\"\""
   ]
  },
  {
   "cell_type": "code",
   "execution_count": null,
   "metadata": {},
   "outputs": [],
   "source": [
    "# connection à notre nouvelle base de données movie2\n",
    "base_de_donnee = \"movie2\"\n",
    "utilisateur = \"postgres\"\n",
    "mot_passe = os.environ.get('pg_pw')\n",
    "    "
   ]
  },
  {
   "cell_type": "code",
   "execution_count": null,
   "metadata": {},
   "outputs": [],
   "source": [
    "print(ouvrir_connection)"
   ]
  },
  {
   "cell_type": "code",
   "execution_count": null,
   "metadata": {},
   "outputs": [],
   "source": [
    "conn = ouvrir_connection(base_de_donnee, utilisateur, mot_passe)"
   ]
  },
  {
   "cell_type": "code",
   "execution_count": null,
   "metadata": {},
   "outputs": [],
   "source": [
    "creer_table(conn, sql_creer_table)"
   ]
  },
  {
   "cell_type": "code",
   "execution_count": null,
   "metadata": {},
   "outputs": [],
   "source": [
    "donnees = lire_donnee(chemin_movies)"
   ]
  },
  {
   "cell_type": "code",
   "execution_count": null,
   "metadata": {},
   "outputs": [],
   "source": [
    "inserer_donnees(conn, sql_inserer_donnee, donnees)"
   ]
  },
  {
   "cell_type": "code",
   "execution_count": null,
   "metadata": {},
   "outputs": [],
   "source": [
    "lire_table(conn, sql_lire_donnee)"
   ]
  },
  {
   "cell_type": "code",
   "execution_count": null,
   "metadata": {},
   "outputs": [],
   "source": []
  }
 ],
 "metadata": {
  "kernelspec": {
   "display_name": "Python 3",
   "language": "python",
   "name": "python3"
  },
  "language_info": {
   "codemirror_mode": {
    "name": "ipython",
    "version": 3
   },
   "file_extension": ".py",
   "mimetype": "text/x-python",
   "name": "python",
   "nbconvert_exporter": "python",
   "pygments_lexer": "ipython3",
   "version": "3.8.6"
  }
 },
 "nbformat": 4,
 "nbformat_minor": 4
}
