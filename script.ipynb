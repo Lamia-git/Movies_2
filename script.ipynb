{
 "cells": [
  {
   "cell_type": "markdown",
   "metadata": {},
   "source": [
    "### La base de données CSV au format PostgreSQL"
   ]
  },
  {
   "cell_type": "code",
   "execution_count": 12,
   "metadata": {},
   "outputs": [],
   "source": [
    "import psycopg2\n",
    "\n",
    "def ouvrir_connection(nom_bdd, utilisateur, mot_passe, host='localhost', port=5433):\n",
    "    try:\n",
    "        conn = psycopg2.connect(dbname=nom_bdd, user=utilisateur, password=mot_passe, host=host, port=5433)\n",
    "    except psycopg2.Error as e:\n",
    "        print(\"Erreur lors de la connection à la base de données\")\n",
    "        print(e)\n",
    "        return None\n",
    "    conn.set_session(autocommit=True)\n",
    "    return conn\n",
    "\n",
    "\n",
    "def supprimer_table(conn, sql_suppression_table):\n",
    "    try:\n",
    "        cursor = conn.cursor()\n",
    "        cursor.execute(sql_suppression_table)\n",
    "        conn.commit()\n",
    "    except psycopg2.Error as e:\n",
    "        print(\"Erreur lors de la suppression de la table\")\n",
    "        print(e)\n",
    "        return\n",
    "    cursor.close()\n",
    "    print(\"La table a été supprimée avec succès\")\n",
    "\n",
    "    \n",
    "def creer_table(conn, sql_creation_table):\n",
    "    try:\n",
    "        cursor = conn.cursor()\n",
    "        cursor.execute(sql_creation_table)\n",
    "        conn.commit()\n",
    "    except psycopg2.Error as e:\n",
    "        print(\"Erreur lors de la création de la table\")\n",
    "        print(e)\n",
    "        return\n",
    "    cursor.close()\n",
    "    print(\"La table a été crée avec succès\")\n",
    "\n",
    "    \n",
    "def inserer_donnees(conn, sql_insertion_table, donnees):\n",
    "    try:\n",
    "        cursor = conn.cursor()\n",
    "        \n",
    "        for d in donnees:\n",
    "            cursor.execute(sql_insertion_table, d)\n",
    "            \n",
    "        conn.commit()\n",
    "    except psycopg2.Error as e:\n",
    "        print(\"Erreur lors de l'insertion des données\")\n",
    "        print(e)\n",
    "        return\n",
    "    cursor.close()\n",
    "    print(\"Les données ont été insérées avec succès\")\n",
    "\n",
    "    \n",
    "def lire_donnees(conn, sql_requete):\n",
    "    try:\n",
    "        cursor = conn.cursor()\n",
    "        cursor.execute(sql_requete)\n",
    "        conn.commit()\n",
    "    except psycopg2.Error as e:\n",
    "        print(\"Erreur lors de la lecture des données\")\n",
    "        print(e)\n",
    "        return None\n",
    "    \n",
    "    print(\"Les données ont été lues avec succès\")\n",
    "    data = []\n",
    "    for row in cursor:\n",
    "        data.append(row)\n",
    "\n",
    "    cursor.close()\n",
    "    \n",
    "    return data\n",
    "\n",
    "def lire_csv_Dict(nom_fichier):\n",
    "    data = []\n",
    "    with open(nom_fichier, newline='', encoding='utf-8') as csvfile:\n",
    "        reader = csv.DictReader(csvfile)\n",
    "        for row in reader:\n",
    "            data.append(row)\n",
    "        \n",
    "    return data\n",
    "\n",
    "\n",
    "def renvoyer_annee_titre_film(title):\n",
    "    new_title=title.strip()\n",
    "    year=None\n",
    "    try:\n",
    "        if new_title[-6]=='(' and new_title[-1] == ')':\n",
    "            year=int(new_title[-5:-1])\n",
    "            new_title=new_title[:-6].strip()\n",
    "    except:\n",
    "        pass\n",
    "    return  new_title,year\n",
    "\n",
    "def update_movies(conn,movies,sql_add_annee,sql_update_title_annee):\n",
    "    try:\n",
    "        cursor = conn.cursor()\n",
    "        #ajouter la colonne annee dans la table movies\n",
    "        cursor.execute(sql_add_annee)\n",
    "        \n",
    "        for d in movies:\n",
    "            titre_annee_formater = renvoyer_annee_titre_film(d[1])\n",
    "            #print(titre_annee_formater[0],titre_annee_formater[1],d[0])\n",
    "            cursor.execute(sql_update_title_annee,(titre_annee_formater[0],titre_annee_formater[1],d[0]))\n",
    "           \n",
    "        print(\"la colonne annees a bien été ajouté et le titre est formaté\")\n",
    "        conn.commit()\n",
    "    except psycopg2.Error as e:\n",
    "        print(\"Erreur lors de l'insertion des données\")\n",
    "        print(e)\n",
    "        return\n",
    "    \n",
    "    cursor.close()\n",
    "        \n",
    "    "
   ]
  },
  {
   "cell_type": "code",
   "execution_count": 5,
   "metadata": {},
   "outputs": [],
   "source": [
    "\n",
    "from pathlib import Path\n",
    "import csv\n",
    "\n",
    "# Répertoire dataset (small)\n",
    "repertoire_data = Path('data')\n",
    "\n",
    "# Chemin vers les différents fichiers de données\n",
    "chemin_movies = repertoire_data / 'movies.csv'\n",
    "chemin_links = repertoire_data / 'links.csv'\n",
    "chemin_ratings = repertoire_data / 'ratings.csv'\n",
    "chemin_tags = repertoire_data / 'tags.csv'\n",
    "\n",
    "\n",
    "#print(chemin_movies)\n",
    "\n",
    "\n"
   ]
  },
  {
   "cell_type": "markdown",
   "metadata": {},
   "source": [
    "### Creation de BDD Floupics et ouverture de connection"
   ]
  },
  {
   "cell_type": "code",
   "execution_count": 13,
   "metadata": {},
   "outputs": [],
   "source": [
    "import os\n",
    "nom_bdd = \"Floupics\"\n",
    "utilisateur = \"postgres\"\n",
    "mot_passe = os.environ.get('pg_psw')\n",
    "\n",
    "conn = ouvrir_connection(nom_bdd, utilisateur, mot_passe)\n",
    "\n"
   ]
  },
  {
   "cell_type": "markdown",
   "metadata": {},
   "source": [
    "### Importation des données et création des tables appropriées  "
   ]
  },
  {
   "cell_type": "code",
   "execution_count": 18,
   "metadata": {},
   "outputs": [],
   "source": [
    "sql_suppression_table_movies = \"\"\" DROP TABLE IF EXISTS movies;\"\"\"\n",
    "\n",
    "sql_creation_table='''create table if not exists movies(\n",
    "                                       movieId int primary key,\n",
    "                                       title text,\n",
    "                                       genres text)'''\n",
    "\n",
    "sql_insertion_table = '''insert into movies (movieId, title, genres) values (%(movieId)s, %(title)s,%(genres)s)''' \n",
    "\n",
    "sql_lecture_requete = '''select * from movies limit 50'''\n",
    "\n",
    "sql_read_all = '''select * from movies'''\n",
    "\n",
    "sql_add_annee = '''ALTER TABLE movies ADD COLUMN IF NOT EXISTS annee INT'''\n",
    "\n",
    "sql_update_title_annee = '''UPDATE movies SET title= %s, annee= %s where movieId= %s'''\n",
    "\n"
   ]
  },
  {
   "cell_type": "code",
   "execution_count": 22,
   "metadata": {},
   "outputs": [
    {
     "name": "stdout",
     "output_type": "stream",
     "text": [
      "La table a été supprimée avec succès\n",
      "La table a été crée avec succès\n"
     ]
    }
   ],
   "source": [
    "supprimer_table(conn, sql_suppression_table_movies)\n",
    "creer_table(conn, sql_creation_table)"
   ]
  },
  {
   "cell_type": "code",
   "execution_count": 23,
   "metadata": {},
   "outputs": [
    {
     "name": "stdout",
     "output_type": "stream",
     "text": [
      "Les données ont été insérées avec succès\n"
     ]
    }
   ],
   "source": [
    "donnees = lire_csv_Dict(chemin_movies)\n",
    "inserer_donnees(conn, sql_insertion_table, donnees)\n"
   ]
  },
  {
   "cell_type": "code",
   "execution_count": 4,
   "metadata": {},
   "outputs": [],
   "source": [
    "#lire_donnees(conn, sql_lecture_requete)"
   ]
  },
  {
   "cell_type": "code",
   "execution_count": 24,
   "metadata": {},
   "outputs": [
    {
     "name": "stdout",
     "output_type": "stream",
     "text": [
      "Les données ont été lues avec succès\n",
      "la colonne annees a bien été ajouté et le titre est formaté\n"
     ]
    }
   ],
   "source": [
    "#Ajouter la colonne annee et formater le titre dans la table movies:\n",
    "donnee = lire_donnees(conn,sql_read_all)\n",
    "update_movies(conn,donnee,sql_add_annee,sql_update_title_annee)\n"
   ]
  },
  {
   "cell_type": "code",
   "execution_count": 25,
   "metadata": {},
   "outputs": [
    {
     "name": "stdout",
     "output_type": "stream",
     "text": [
      "Les données ont été lues avec succès\n"
     ]
    },
    {
     "data": {
      "text/plain": [
       "[(2, 'Jumanji', 'Adventure|Children|Fantasy', 1995),\n",
       " (3, 'Grumpier Old Men', 'Comedy|Romance', 1995),\n",
       " (4, 'Waiting to Exhale', 'Comedy|Drama|Romance', 1995),\n",
       " (5, 'Father of the Bride Part II', 'Comedy', 1995),\n",
       " (6, 'Heat', 'Action|Crime|Thriller', 1995),\n",
       " (7, 'Sabrina', 'Comedy|Romance', 1995),\n",
       " (8, 'Tom and Huck', 'Adventure|Children', 1995),\n",
       " (9, 'Sudden Death', 'Action', 1995),\n",
       " (10, 'GoldenEye', 'Action|Adventure|Thriller', 1995),\n",
       " (11, 'American President, The', 'Comedy|Drama|Romance', 1995),\n",
       " (12, 'Dracula: Dead and Loving It', 'Comedy|Horror', 1995),\n",
       " (13, 'Balto', 'Adventure|Animation|Children', 1995),\n",
       " (14, 'Nixon', 'Drama', 1995),\n",
       " (15, 'Cutthroat Island', 'Action|Adventure|Romance', 1995),\n",
       " (16, 'Casino', 'Crime|Drama', 1995),\n",
       " (17, 'Sense and Sensibility', 'Drama|Romance', 1995),\n",
       " (18, 'Four Rooms', 'Comedy', 1995),\n",
       " (19, 'Ace Ventura: When Nature Calls', 'Comedy', 1995),\n",
       " (20, 'Money Train', 'Action|Comedy|Crime|Drama|Thriller', 1995),\n",
       " (21, 'Get Shorty', 'Comedy|Crime|Thriller', 1995),\n",
       " (22, 'Copycat', 'Crime|Drama|Horror|Mystery|Thriller', 1995),\n",
       " (23, 'Assassins', 'Action|Crime|Thriller', 1995),\n",
       " (24, 'Powder', 'Drama|Sci-Fi', 1995),\n",
       " (25, 'Leaving Las Vegas', 'Drama|Romance', 1995),\n",
       " (26, 'Othello', 'Drama', 1995),\n",
       " (27, 'Now and Then', 'Children|Drama', 1995),\n",
       " (28, 'Persuasion', 'Drama|Romance', 1995),\n",
       " (30, 'Shanghai Triad (Yao a yao yao dao waipo qiao)', 'Crime|Drama', 1995),\n",
       " (31, 'Dangerous Minds', 'Drama', 1995),\n",
       " (32, 'Twelve Monkeys (a.k.a. 12 Monkeys)', 'Mystery|Sci-Fi|Thriller', 1995),\n",
       " (34, 'Babe', 'Children|Drama', 1995),\n",
       " (36, 'Dead Man Walking', 'Crime|Drama', 1995),\n",
       " (38, 'It Takes Two', 'Children|Comedy', 1995),\n",
       " (39, 'Clueless', 'Comedy|Romance', 1995),\n",
       " (40, 'Cry, the Beloved Country', 'Drama', 1995),\n",
       " (41, 'Richard III', 'Drama|War', 1995),\n",
       " (42, 'Dead Presidents', 'Action|Crime|Drama', 1995),\n",
       " (43, 'Restoration', 'Drama', 1995),\n",
       " (44, 'Mortal Kombat', 'Action|Adventure|Fantasy', 1995),\n",
       " (45, 'To Die For', 'Comedy|Drama|Thriller', 1995),\n",
       " (46, 'How to Make an American Quilt', 'Drama|Romance', 1995),\n",
       " (47, 'Seven (a.k.a. Se7en)', 'Mystery|Thriller', 1995),\n",
       " (48, 'Pocahontas', 'Animation|Children|Drama|Musical|Romance', 1995),\n",
       " (49, 'When Night Is Falling', 'Drama|Romance', 1995),\n",
       " (50, 'Usual Suspects, The', 'Crime|Mystery|Thriller', 1995),\n",
       " (52, 'Mighty Aphrodite', 'Comedy|Drama|Romance', 1995),\n",
       " (53, 'Lamerica', 'Adventure|Drama', 1994),\n",
       " (54, 'Big Green, The', 'Children|Comedy', 1995),\n",
       " (55, 'Georgia', 'Drama', 1995),\n",
       " (57, 'Home for the Holidays', 'Drama', 1995)]"
      ]
     },
     "execution_count": 25,
     "metadata": {},
     "output_type": "execute_result"
    }
   ],
   "source": [
    "lire_donnees(conn, sql_lecture_requete)"
   ]
  },
  {
   "cell_type": "code",
   "execution_count": null,
   "metadata": {},
   "outputs": [],
   "source": []
  }
 ],
 "metadata": {
  "kernelspec": {
   "display_name": "Python 3",
   "language": "python",
   "name": "python3"
  },
  "language_info": {
   "codemirror_mode": {
    "name": "ipython",
    "version": 3
   },
   "file_extension": ".py",
   "mimetype": "text/x-python",
   "name": "python",
   "nbconvert_exporter": "python",
   "pygments_lexer": "ipython3",
   "version": "3.8.6"
  }
 },
 "nbformat": 4,
 "nbformat_minor": 4
}
